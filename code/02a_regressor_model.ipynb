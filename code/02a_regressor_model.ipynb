{
 "cells": [
  {
   "cell_type": "markdown",
   "id": "ae420d79",
   "metadata": {},
   "source": [
    "# Predicting Insurance Spending Budget"
   ]
  },
  {
   "cell_type": "markdown",
   "id": "9e545341",
   "metadata": {},
   "source": [
    "## Introduction\n",
    "\n",
    "When budgeting for insurance, many fresh graduates, people starting work and even those entering a new phase in their lives, often do not know how much to set aside. There are several benchmarks or the 'rule of thumb' that people can follow. However it does not accurately take into account each individual factor that may affect the prices of premiums.\n",
    "\n",
    "This analysis aims to identify the most effective machine learning model—and the most informative features—for predicting how much one should set aside for insurance. The data looks at people between the ages of 25 to 36 years old. Our workflow covers environment setup, feature selection, preprocessing, and the training of multiple models. This is the work of the final model selected, which is the XGBoost Regressor model. The goal is to build a robust, accurate predictor of a person's budget."
   ]
  },
  {
   "cell_type": "markdown",
   "id": "5f1e3993",
   "metadata": {},
   "source": [
    "# Step 1: Import the packages\n",
    "\n",
    "In this section, we will install and import the required libraries needed for data manipulation, visualization, and modeling."
   ]
  },
  {
   "cell_type": "code",
   "execution_count": 1,
   "id": "518146f5",
   "metadata": {},
   "outputs": [],
   "source": [
    "import pandas as pd\n",
    "import numpy as np\n",
    "from sklearn.model_selection import train_test_split\n",
    "from sklearn.metrics import mean_absolute_error, mean_squared_error, root_mean_squared_error, r2_score\n",
    "import xgboost as xgb\n",
    "import matplotlib.pyplot as plt\n",
    "import pickle"
   ]
  },
  {
   "cell_type": "markdown",
   "id": "cd675a9a",
   "metadata": {},
   "source": [
    "# Step 2a: Load the dataset\n",
    "In this section, we will walk through the essential steps required to prepare our dataset for modeling. The following sections will pre-process the data, and create the train-test split for machine learning."
   ]
  },
  {
   "cell_type": "code",
   "execution_count": null,
   "id": "dc28c525",
   "metadata": {},
   "outputs": [
    {
     "name": "stdout",
     "output_type": "stream",
     "text": [
      "Dataset loaded successfully.\n"
     ]
    }
   ],
   "source": [
    "# Ensure the CSV file is in the same directory as this script.\n",
    "try:\n",
    "    data = pd.read_csv('../data/person_data.csv')\n",
    "    print(\"Dataset loaded successfully.\")\n",
    "except FileNotFoundError:\n",
    "    print(\"Error: 'person_data.csv' not found. Please ensure the file is in the correct directory.\")\n",
    "    exit()"
   ]
  },
  {
   "cell_type": "markdown",
   "id": "1847e352",
   "metadata": {},
   "source": [
    "# Step 2b: Make the data more realistic by adding random noise\n",
    "\n",
    "In this section, to simulate real world variability, we can add noise to our target variable."
   ]
  },
  {
   "cell_type": "code",
   "execution_count": 3,
   "id": "84185806",
   "metadata": {},
   "outputs": [
    {
     "name": "stdout",
     "output_type": "stream",
     "text": [
      "\n",
      "Random noise added to monthly_insurance_spending to simulate real-world data.\n"
     ]
    }
   ],
   "source": [
    "# This simulates real-world variability where monthly insurance spending isn't a perfect\n",
    "# calculation of income. We'll add a small random value to the target variable.\n",
    "# The `scale` value controls the amount of noise; a smaller value means less noise.\n",
    "np.random.seed(42) # for reproducibility\n",
    "noise = np.random.normal(loc=0, scale=10, size=len(data))\n",
    "data['monthly_insurance_spending'] = data['monthly_insurance_spending'] + noise\n",
    "\n",
    "print(\"\\nRandom noise added to monthly_insurance_spending to simulate real-world data.\")"
   ]
  },
  {
   "cell_type": "markdown",
   "id": "f3a8029f",
   "metadata": {},
   "source": [
    "# Step 3: Preprocess the data\n",
    "\n",
    "In this section, we will walk through the essential steps required to prepare our dataset for modeling. This includes encoding the categorical columns by getting dummies."
   ]
  },
  {
   "cell_type": "code",
   "execution_count": 4,
   "id": "05d5e736",
   "metadata": {},
   "outputs": [],
   "source": [
    "# Identify features and the target variable.\n",
    "# The target is 'monthly_insurance_spending'.\n",
    "# We will use all other relevant columns as features.\n",
    "target = 'monthly_insurance_spending'\n",
    "features = data.drop(columns=[target, 'annual_income']) # Dropping incomes as it can cause collinearity"
   ]
  },
  {
   "cell_type": "code",
   "execution_count": 5,
   "id": "5254545e",
   "metadata": {},
   "outputs": [],
   "source": [
    "# Handle categorical variables using one-hot encoding.\n",
    "# This converts categorical columns like 'gender', 'smoker', and 'marital_status' into numerical format\n",
    "# that the Random Forest model can understand.\n",
    "categorical_features = ['gender', 'smoker', 'marital_status', 'own_car', 'elderly_parents', 'any_other_loan']\n",
    "data_encoded = pd.get_dummies(features, columns=categorical_features)"
   ]
  },
  {
   "cell_type": "code",
   "execution_count": 6,
   "id": "acd091da",
   "metadata": {},
   "outputs": [
    {
     "name": "stdout",
     "output_type": "stream",
     "text": [
      "\n",
      "Data preprocessing complete.\n",
      "Features used for training: ['age', 'monthly_income', 'home_loan_remaining', 'years_left_on_home_loan', 'monthly_expenses', 'kids', 'travel_freq_year', 'savings', 'gender_f', 'gender_m', 'smoker_0', 'smoker_1', 'marital_status_married', 'marital_status_single', 'own_car_0', 'own_car_1', 'elderly_parents_0', 'elderly_parents_1', 'any_other_loan_0', 'any_other_loan_1']\n"
     ]
    }
   ],
   "source": [
    "# Separate features (X) and target (y)\n",
    "X = data_encoded\n",
    "y = data[target]\n",
    "print(\"\\nData preprocessing complete.\")\n",
    "print(f\"Features used for training: {list(X.columns)}\")"
   ]
  },
  {
   "cell_type": "markdown",
   "id": "c6414153",
   "metadata": {},
   "source": [
    "# Step 4: Split the data into training and testing sets\n",
    "\n",
    "This is where we will split the data into training and testing sets. "
   ]
  },
  {
   "cell_type": "code",
   "execution_count": 7,
   "id": "0f45717c",
   "metadata": {},
   "outputs": [],
   "source": [
    "# We'll use 75% of the data for training the model and 25% for testing its performance.\n",
    "# random_state ensures reproducibility of the split.\n",
    "X_train, X_test, y_train, y_test = train_test_split(X, y, test_size=0.25, random_state=42)"
   ]
  },
  {
   "cell_type": "code",
   "execution_count": 8,
   "id": "642a1ce8",
   "metadata": {},
   "outputs": [
    {
     "name": "stdout",
     "output_type": "stream",
     "text": [
      "\n",
      "Data split into training and testing sets.\n",
      "Training set size: 262 samples\n",
      "Testing set size: 88 samples\n"
     ]
    }
   ],
   "source": [
    "print(\"\\nData split into training and testing sets.\")\n",
    "print(f\"Training set size: {X_train.shape[0]} samples\")\n",
    "print(f\"Testing set size: {X_test.shape[0]} samples\")"
   ]
  },
  {
   "cell_type": "markdown",
   "id": "5a5a7248",
   "metadata": {},
   "source": [
    "# Step 5: Create and train the XGBoost Regressor model\n",
    "\n",
    "In this section, we will dive into building and evaluating the ML models. The use of ML models enables computers to learn from the dataset and make predictions by identifying patterns in the dataset.\n",
    "\n",
    "We will build and evaluate the XGBoost model. We will evaluate the performance of the model by using the R-square and RMSE values. Our baseline model was a RandomForest Regressor which had a R-square of 97.25% and an RMSE of $54.18.\n",
    "\n",
    "The XGBoost model(eXtreme Gradient Boosting) is a powerful machine learning algorithm that works like a team of decision-making experts. Instead of one expert making all the decisions, it uses a series of simple \"experts\" (called decision trees) to make predictions.\n",
    "\n",
    "- **Speed**: It can handle large datasets very quickly\n",
    "- **Regularization**: It has built-in features to prevent overfitting"
   ]
  },
  {
   "cell_type": "code",
   "execution_count": 9,
   "id": "209e2fe6",
   "metadata": {},
   "outputs": [
    {
     "name": "stdout",
     "output_type": "stream",
     "text": [
      "\n",
      "Training the xgboost model...\n",
      "Model training complete.\n"
     ]
    }
   ],
   "source": [
    "# XGBoost is a gradient boosting algorithm that is highly efficient and effective.\n",
    "print(\"\\nTraining the xgboost model...\")\n",
    "model = xgb.XGBRegressor(n_estimators=100, random_state=42)\n",
    "model.fit(X_train, y_train)\n",
    "\n",
    "print(\"Model training complete.\")"
   ]
  },
  {
   "cell_type": "markdown",
   "id": "c2729152",
   "metadata": {},
   "source": [
    "# Step 6: Make predictions on the test data"
   ]
  },
  {
   "cell_type": "code",
   "execution_count": 10,
   "id": "83a383a7",
   "metadata": {},
   "outputs": [],
   "source": [
    "y_pred = model.predict(X_test)"
   ]
  },
  {
   "cell_type": "markdown",
   "id": "be172744",
   "metadata": {},
   "source": [
    "# Step 7: Evaluate the model's performance"
   ]
  },
  {
   "cell_type": "code",
   "execution_count": 11,
   "id": "785372c3",
   "metadata": {},
   "outputs": [
    {
     "name": "stdout",
     "output_type": "stream",
     "text": [
      "\n",
      "Model Evaluation (Training Set):\n",
      "Mean Absolute Error (MAE): 0.04\n",
      "Mean Squared Error (MSE): 0.00\n",
      "Root Mean Squared Error (RMSE): 0.05\n",
      "R-squared (R^2): 0.9999999706088054\n"
     ]
    }
   ],
   "source": [
    "# We'll use several metrics to assess how well the model performed.\n",
    "# MAE: Average absolute difference between predicted and actual values.\n",
    "# MSE: Average squared difference (penalizes larger errors more).\n",
    "# RMSE: Root of the average squared difference\n",
    "# R^2: Proportion of variance in the target that is predictable from the features.\n",
    "y_train_pred = model.predict(X_train)\n",
    "train_mae = mean_absolute_error(y_train, y_train_pred)\n",
    "train_mse = mean_squared_error(y_train, y_train_pred)\n",
    "train_rmse = root_mean_squared_error(y_train, y_train_pred)\n",
    "train_r2 = r2_score(y_train, y_train_pred)\n",
    "print(\"\\nModel Evaluation (Training Set):\")\n",
    "print(f\"Mean Absolute Error (MAE): {train_mae:.2f}\")\n",
    "print(f\"Mean Squared Error (MSE): {train_mse:.2f}\")\n",
    "print(f\"Root Mean Squared Error (RMSE): {train_rmse:.2f}\")\n",
    "print(f\"R-squared (R^2): {train_r2}\")\n"
   ]
  },
  {
   "cell_type": "code",
   "execution_count": 12,
   "id": "b2f8bda1",
   "metadata": {},
   "outputs": [
    {
     "name": "stdout",
     "output_type": "stream",
     "text": [
      "\n",
      "Model Evaluation (Test set):\n",
      "Mean Absolute Error (MAE): 19.24\n",
      "Mean Squared Error (MSE): 926.53\n",
      "Root Mean Squared Error (RMSE): 30.44\n",
      "R-squared (R^2): 0.9913182132102585\n"
     ]
    }
   ],
   "source": [
    "# We'll use several metrics to assess how well the model performed.\n",
    "# MAE: Average absolute difference between predicted and actual values.\n",
    "# MSE: Average squared difference (penalizes larger errors more).\n",
    "# RMSE: Root of the average squared difference\n",
    "# R^2: Proportion of variance in the target that is predictable from the features.\n",
    "mae = mean_absolute_error(y_test, y_pred)\n",
    "mse = mean_squared_error(y_test, y_pred)\n",
    "rmse = root_mean_squared_error(y_test, y_pred)\n",
    "r2 = r2_score(y_test, y_pred)\n",
    "print(\"\\nModel Evaluation (Test set):\")\n",
    "print(f\"Mean Absolute Error (MAE): {mae:.2f}\")\n",
    "print(f\"Mean Squared Error (MSE): {mse:.2f}\")\n",
    "print(f\"Root Mean Squared Error (RMSE): {rmse:.2f}\")\n",
    "print(f\"R-squared (R^2): {r2}\")"
   ]
  },
  {
   "cell_type": "markdown",
   "id": "3608241c",
   "metadata": {},
   "source": [
    "# Step 8: Plotting the feature importance\n",
    "\n",
    "Plotting the feature importance to see which ones impact the prediction the most"
   ]
  },
  {
   "cell_type": "code",
   "execution_count": 13,
   "id": "31ab35f6",
   "metadata": {},
   "outputs": [
    {
     "data": {
      "image/png": "[encoded data removed]",
      "text/plain": [
       "<Figure size 640x480 with 1 Axes>"
      ]
     },
     "metadata": {},
     "output_type": "display_data"
    }
   ],
   "source": [
    "xgb.plot_importance(model, importance_type='weight')\n",
    "plt.show()"
   ]
  },
  {
   "cell_type": "markdown",
   "id": "81daa710",
   "metadata": {},
   "source": [
    "# Step 9: Save the trained model and predictions\n",
    "\n",
    "Saving the model and predictions for use in a streamlit app"
   ]
  },
  {
   "cell_type": "code",
   "execution_count": 14,
   "id": "b4850f79",
   "metadata": {},
   "outputs": [
    {
     "name": "stdout",
     "output_type": "stream",
     "text": [
      "\n",
      "XGBoost model saved as 'xgb_regressor_model.pkl'\n"
     ]
    }
   ],
   "source": [
    "# Save the trained xgboost model to a pickle file\n",
    "# This file can be loaded later for making new predictions\n",
    "with open('xgb_regressor_model.pkl', 'wb') as f:\n",
    "    pickle.dump(model, f)\n",
    "print(\"\\nXGBoost model saved as 'xgb_regressor_model.pkl'\")"
   ]
  },
  {
   "cell_type": "code",
   "execution_count": 15,
   "id": "9243f953",
   "metadata": {},
   "outputs": [],
   "source": [
    "# Save the predictions to a CSV file\n",
    "# This creates a DataFrame with the test features and the model's predictions\n",
    "predictions_df = X_test.copy()\n",
    "predictions_df['actual_monthly_insurance_spending'] = y_test\n",
    "predictions_df['predicted_monthly_insurance_spending'] = y_pred"
   ]
  },
  {
   "cell_type": "code",
   "execution_count": 16,
   "id": "1e637f48",
   "metadata": {},
   "outputs": [
    {
     "name": "stdout",
     "output_type": "stream",
     "text": [
      "Predictions saved to 'xgb_predictions.csv'\n"
     ]
    }
   ],
   "source": [
    "# Save the DataFrame to a CSV file\n",
    "predictions_df.to_csv('xgb_predictions.csv', index=False)\n",
    "print(\"Predictions saved to 'xgb_predictions.csv'\")"
   ]
  },
  {
   "cell_type": "markdown",
   "id": "6b44abf5",
   "metadata": {},
   "source": [
    "## 4. Conclusion and Recommendations\n",
    "\n",
    "We benchmarked multiple machine-learning models and evaluated them on train/test R², RMSE, runtime, and the gap between train and test performance. **XGBoost** emerged as the preferred model. As shown in the summary table, it delivers high train and test R² with low RMSE at a fast runtime, shows no material overfitting, and exceeds our baselines (≥97.25% R² and RMSE < $54.18).\n",
    "\n",
    "Key price drivers identified across models:\n",
    "- **Monthly Income**\n",
    "- **Monthly Expenses**\n",
    "- **Age**\n",
    "- **Savings**\n",
    "- **Home Loan Remaining**\n",
    "- **Travel Frequency**\n",
    "\n",
    "While some may think monthly income causes target leakage, it does not. Monthly income is an independent feature. Target leakage happens when a feature in your training data contains information about the target that would not be available at the time of prediction. Monthly income is a pre-existing characteristic of the individual\n",
    "\n",
    "This workbook pinpoints and quantifies the attributes that most strongly influence insurance spending budget, offering a clear view of it's drivers. Built on a machine-learning model trained on an array of person data, it estimates fair amounts for an insurance budget and highlights the incremental impact of key features.\n"
   ]
  },
  {
   "cell_type": "markdown",
   "id": "04466e1d",
   "metadata": {},
   "source": [
    "## Key references include:\n",
    "* [Scikit-learn](https://scikit-learn.org/)\n",
    "* [XGBoost Documentation](https://xgboost.readthedocs.io/en/stable/)\n",
    "* [Stack Overflow](https://stackoverflow.com/)"
   ]
  }
 ],
 "metadata": {
  "kernelspec": {
   "display_name": "Python 3",
   "language": "python",
   "name": "python3"
  },
  "language_info": {
   "codemirror_mode": {
    "name": "ipython",
    "version": 3
   },
   "file_extension": ".py",
   "mimetype": "text/x-python",
   "name": "python",
   "nbconvert_exporter": "python",
   "pygments_lexer": "ipython3",
   "version": "3.11.5"
  }
 },
 "nbformat": 4,
 "nbformat_minor": 5
}
